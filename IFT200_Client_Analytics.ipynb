{
 "cells": [
  {
   "cell_type": "markdown",
   "id": "33200148-fff3-4d7c-8d1c-a76b214994a2",
   "metadata": {},
   "source": [
    "## Create the SQLite Database\n"
   ]
  },
  {
   "cell_type": "code",
   "execution_count": null,
   "id": "62936b47-4c92-4f5b-9567-b47eecfb7798",
   "metadata": {},
   "outputs": [],
   "source": [
    "import sqlite3\n",
    "\n",
    "# Create the database file in your project folder\n",
    "conn = sqlite3.connect('client_program.db')\n",
    "cur = conn.cursor()\n",
    "\n",
    "print(\"Database created successfully.\")"
   ]
  },
  {
   "cell_type": "markdown",
   "id": "c06508b1-c2be-4ff1-b5fd-03542b3e5811",
   "metadata": {},
   "source": [
    "## Create All 4 Tables"
   ]
  },
  {
   "cell_type": "code",
   "execution_count": 6,
   "id": "46cd30ec-3757-4810-9828-6afb109d523e",
   "metadata": {},
   "outputs": [
    {
     "name": "stdout",
     "output_type": "stream",
     "text": [
      "All tables created.\n"
     ]
    }
   ],
   "source": [
    "# Create Clients table\n",
    "cur.execute('''\n",
    "CREATE TABLE IF NOT EXISTS Clients (\n",
    "    ClientID INTEGER PRIMARY KEY,\n",
    "    FirstName TEXT,\n",
    "    LastName TEXT,\n",
    "    Email TEXT,\n",
    "    Phone TEXT\n",
    ")\n",
    "''')\n",
    "\n",
    "# Create Programs table\n",
    "cur.execute('''\n",
    "CREATE TABLE IF NOT EXISTS Programs (\n",
    "    ProgramID INTEGER PRIMARY KEY,\n",
    "    Name TEXT,\n",
    "    Type TEXT,\n",
    "    StartDate TEXT,\n",
    "    EndDate TEXT\n",
    ")\n",
    "''')\n",
    "\n",
    "# Create Enrollments table\n",
    "cur.execute('''\n",
    "CREATE TABLE IF NOT EXISTS Enrollments (\n",
    "    EnrollmentID INTEGER PRIMARY KEY,\n",
    "    ClientID INTEGER,\n",
    "    ProgramID INTEGER,\n",
    "    EnrollmentDate TEXT,\n",
    "    FOREIGN KEY(ClientID) REFERENCES Clients(ClientID),\n",
    "    FOREIGN KEY(ProgramID) REFERENCES Programs(ProgramID)\n",
    ")\n",
    "''')\n",
    "\n",
    "# Create Case Notes table\n",
    "cur.execute('''\n",
    "CREATE TABLE IF NOT EXISTS Case_Notes (\n",
    "    NoteID INTEGER PRIMARY KEY,\n",
    "    ClientID INTEGER,\n",
    "    NoteDate TEXT,\n",
    "    Staff TEXT,\n",
    "    Note TEXT,\n",
    "    FOREIGN KEY(ClientID) REFERENCES Clients(ClientID)\n",
    ")\n",
    "''')\n",
    "\n",
    "conn.commit()\n",
    "print(\"All tables created.\")"
   ]
  },
  {
   "cell_type": "markdown",
   "id": "e5f0aa0b-a76f-4659-a0ea-dc7422937a3c",
   "metadata": {},
   "source": [
    "## Insert Sample Data into Tables"
   ]
  },
  {
   "cell_type": "code",
   "execution_count": 8,
   "id": "7e49efcb-fb61-4118-872f-dccfc69d3825",
   "metadata": {},
   "outputs": [
    {
     "name": "stdout",
     "output_type": "stream",
     "text": [
      "Sample data inserted.\n"
     ]
    }
   ],
   "source": [
    "# Insert into Clients\n",
    "clients = [\n",
    "    (1, \"John\", \"Doe\", \"john@example.com\", \"555-1234\"),\n",
    "    (2, \"Jane\", \"Smith\", \"jane@example.com\", \"555-5678\"),\n",
    "    (3, \"Robert\", \"Brown\", \"robert@example.com\", \"555-9101\"),\n",
    "]\n",
    "\n",
    "cur.executemany(\"INSERT INTO Clients VALUES (?, ?, ?, ?, ?)\", clients)\n",
    "\n",
    "# Insert into Programs\n",
    "programs = [\n",
    "    (1, \"Housing Assistance\", \"Support\", \"2024-01-01\", \"2024-12-31\"),\n",
    "    (2, \"Job Training\", \"Education\", \"2024-02-01\", \"2024-08-01\"),\n",
    "    (3, \"Health Counseling\", \"Wellness\", \"2024-03-15\", \"2024-10-15\"),\n",
    "]\n",
    "\n",
    "cur.executemany(\"INSERT INTO Programs VALUES (?, ?, ?, ?, ?)\", programs)\n",
    "\n",
    "# Insert into Enrollments\n",
    "enrollments = [\n",
    "    (1, 1, 1, \"2024-01-15\"),\n",
    "    (2, 1, 2, \"2024-02-15\"),\n",
    "    (3, 2, 1, \"2024-02-20\"),\n",
    "    (4, 3, 3, \"2024-04-10\"),\n",
    "]\n",
    "\n",
    "cur.executemany(\"INSERT INTO Enrollments VALUES (?, ?, ?, ?)\", enrollments)\n",
    "\n",
    "# Insert into Case_Notes\n",
    "case_notes = [\n",
    "    (1, 1, \"2024-01-16\", \"Emily Lee\", \"Intake completed\"),\n",
    "    (2, 2, \"2024-02-21\", \"Emily Lee\", \"Referral to housing\"),\n",
    "    (3, 3, \"2024-04-11\", \"Michael Chen\", \"Counseling session logged\"),\n",
    "]\n",
    "\n",
    "cur.executemany(\"INSERT INTO Case_Notes VALUES (?, ?, ?, ?, ?)\", case_notes)\n",
    "\n",
    "conn.commit()\n",
    "print(\"Sample data inserted.\")\n"
   ]
  },
  {
   "cell_type": "markdown",
   "id": "87feff9d-1b6e-4635-a023-3c1c0cde6ea7",
   "metadata": {},
   "source": [
    "## Test If It Works"
   ]
  },
  {
   "cell_type": "code",
   "execution_count": 10,
   "id": "f2b0bf59-487e-4daf-a078-5259eee878e5",
   "metadata": {},
   "outputs": [
    {
     "data": {
      "text/html": [
       "<div>\n",
       "<style scoped>\n",
       "    .dataframe tbody tr th:only-of-type {\n",
       "        vertical-align: middle;\n",
       "    }\n",
       "\n",
       "    .dataframe tbody tr th {\n",
       "        vertical-align: top;\n",
       "    }\n",
       "\n",
       "    .dataframe thead th {\n",
       "        text-align: right;\n",
       "    }\n",
       "</style>\n",
       "<table border=\"1\" class=\"dataframe\">\n",
       "  <thead>\n",
       "    <tr style=\"text-align: right;\">\n",
       "      <th></th>\n",
       "      <th>ClientID</th>\n",
       "      <th>FirstName</th>\n",
       "      <th>LastName</th>\n",
       "      <th>Email</th>\n",
       "      <th>Phone</th>\n",
       "    </tr>\n",
       "  </thead>\n",
       "  <tbody>\n",
       "    <tr>\n",
       "      <th>0</th>\n",
       "      <td>1</td>\n",
       "      <td>John</td>\n",
       "      <td>Doe</td>\n",
       "      <td>john@example.com</td>\n",
       "      <td>555-1234</td>\n",
       "    </tr>\n",
       "    <tr>\n",
       "      <th>1</th>\n",
       "      <td>2</td>\n",
       "      <td>Jane</td>\n",
       "      <td>Smith</td>\n",
       "      <td>jane@example.com</td>\n",
       "      <td>555-5678</td>\n",
       "    </tr>\n",
       "    <tr>\n",
       "      <th>2</th>\n",
       "      <td>3</td>\n",
       "      <td>Robert</td>\n",
       "      <td>Brown</td>\n",
       "      <td>robert@example.com</td>\n",
       "      <td>555-9101</td>\n",
       "    </tr>\n",
       "  </tbody>\n",
       "</table>\n",
       "</div>"
      ],
      "text/plain": [
       "   ClientID FirstName LastName               Email     Phone\n",
       "0         1      John      Doe    john@example.com  555-1234\n",
       "1         2      Jane    Smith    jane@example.com  555-5678\n",
       "2         3    Robert    Brown  robert@example.com  555-9101"
      ]
     },
     "execution_count": 10,
     "metadata": {},
     "output_type": "execute_result"
    }
   ],
   "source": [
    "import pandas as pd\n",
    "\n",
    "# View Clients table\n",
    "pd.read_sql(\"SELECT * FROM Clients\", conn)\n"
   ]
  },
  {
   "cell_type": "code",
   "execution_count": 12,
   "id": "0b8b08e7-2fc3-487e-ad8f-48a352311684",
   "metadata": {},
   "outputs": [
    {
     "data": {
      "text/html": [
       "<div>\n",
       "<style scoped>\n",
       "    .dataframe tbody tr th:only-of-type {\n",
       "        vertical-align: middle;\n",
       "    }\n",
       "\n",
       "    .dataframe tbody tr th {\n",
       "        vertical-align: top;\n",
       "    }\n",
       "\n",
       "    .dataframe thead th {\n",
       "        text-align: right;\n",
       "    }\n",
       "</style>\n",
       "<table border=\"1\" class=\"dataframe\">\n",
       "  <thead>\n",
       "    <tr style=\"text-align: right;\">\n",
       "      <th></th>\n",
       "      <th>NoteID</th>\n",
       "      <th>ClientID</th>\n",
       "      <th>NoteDate</th>\n",
       "      <th>Staff</th>\n",
       "      <th>Note</th>\n",
       "    </tr>\n",
       "  </thead>\n",
       "  <tbody>\n",
       "    <tr>\n",
       "      <th>0</th>\n",
       "      <td>1</td>\n",
       "      <td>1</td>\n",
       "      <td>2024-01-16</td>\n",
       "      <td>Emily Lee</td>\n",
       "      <td>Intake completed</td>\n",
       "    </tr>\n",
       "    <tr>\n",
       "      <th>1</th>\n",
       "      <td>2</td>\n",
       "      <td>2</td>\n",
       "      <td>2024-02-21</td>\n",
       "      <td>Emily Lee</td>\n",
       "      <td>Referral to housing</td>\n",
       "    </tr>\n",
       "    <tr>\n",
       "      <th>2</th>\n",
       "      <td>3</td>\n",
       "      <td>3</td>\n",
       "      <td>2024-04-11</td>\n",
       "      <td>Michael Chen</td>\n",
       "      <td>Counseling session logged</td>\n",
       "    </tr>\n",
       "  </tbody>\n",
       "</table>\n",
       "</div>"
      ],
      "text/plain": [
       "   NoteID  ClientID    NoteDate         Staff                       Note\n",
       "0       1         1  2024-01-16     Emily Lee           Intake completed\n",
       "1       2         2  2024-02-21     Emily Lee        Referral to housing\n",
       "2       3         3  2024-04-11  Michael Chen  Counseling session logged"
      ]
     },
     "execution_count": 12,
     "metadata": {},
     "output_type": "execute_result"
    }
   ],
   "source": [
    "pd.read_sql(\"SELECT * FROM Programs\", conn)\n",
    "pd.read_sql(\"SELECT * FROM Enrollments\", conn)\n",
    "pd.read_sql(\"SELECT * FROM Case_Notes\", conn)\n"
   ]
  },
  {
   "cell_type": "markdown",
   "id": "028a26f5-5786-469e-8964-8a8d5b658f38",
   "metadata": {},
   "source": [
    "## Create a SQL View for Easy Analysis"
   ]
  },
  {
   "cell_type": "code",
   "execution_count": 25,
   "id": "10767b05-d488-4756-923b-3ed111aded43",
   "metadata": {},
   "outputs": [
    {
     "name": "stdout",
     "output_type": "stream",
     "text": [
      "View created successfully.\n"
     ]
    }
   ],
   "source": [
    "# Create a unified view combining Clients, Programs, Enrollments, and Notes\n",
    "query_view = '''\n",
    "CREATE VIEW IF NOT EXISTS ClientProgramView AS\n",
    "SELECT \n",
    "  c.FirstName || ' ' || c.LastName AS ClientName,\n",
    "  p.Name AS ProgramName,\n",
    "  p.Type,\n",
    "  e.EnrollmentDate,\n",
    "  n.NoteDate,\n",
    "  n.Staff,\n",
    "  n.Note\n",
    "FROM Clients c\n",
    "JOIN Enrollments e ON c.ClientID = e.ClientID\n",
    "JOIN Programs p ON e.ProgramID = p.ProgramID\n",
    "LEFT JOIN Case_Notes n ON c.ClientID = n.ClientID;\n",
    "'''\n",
    "\n",
    "cur.execute(query_view)\n",
    "conn.commit()\n",
    "print(\"View created successfully.\")\n"
   ]
  },
  {
   "cell_type": "markdown",
   "id": "e68b85b3-3c39-49d1-adf8-87901e71163b",
   "metadata": {},
   "source": [
    "## Query Clients Enrolled in 2024 Only"
   ]
  },
  {
   "cell_type": "code",
   "execution_count": 28,
   "id": "6943efed-453c-4f2e-ae6f-2bb8a72356ac",
   "metadata": {},
   "outputs": [
    {
     "data": {
      "text/html": [
       "<div>\n",
       "<style scoped>\n",
       "    .dataframe tbody tr th:only-of-type {\n",
       "        vertical-align: middle;\n",
       "    }\n",
       "\n",
       "    .dataframe tbody tr th {\n",
       "        vertical-align: top;\n",
       "    }\n",
       "\n",
       "    .dataframe thead th {\n",
       "        text-align: right;\n",
       "    }\n",
       "</style>\n",
       "<table border=\"1\" class=\"dataframe\">\n",
       "  <thead>\n",
       "    <tr style=\"text-align: right;\">\n",
       "      <th></th>\n",
       "      <th>ClientName</th>\n",
       "      <th>ProgramName</th>\n",
       "      <th>Type</th>\n",
       "      <th>EnrollmentDate</th>\n",
       "      <th>NoteDate</th>\n",
       "      <th>Staff</th>\n",
       "      <th>Note</th>\n",
       "    </tr>\n",
       "  </thead>\n",
       "  <tbody>\n",
       "    <tr>\n",
       "      <th>0</th>\n",
       "      <td>John Doe</td>\n",
       "      <td>Housing Assistance</td>\n",
       "      <td>Support</td>\n",
       "      <td>2024-01-15</td>\n",
       "      <td>2024-01-16</td>\n",
       "      <td>Emily Lee</td>\n",
       "      <td>Intake completed</td>\n",
       "    </tr>\n",
       "    <tr>\n",
       "      <th>1</th>\n",
       "      <td>John Doe</td>\n",
       "      <td>Job Training</td>\n",
       "      <td>Education</td>\n",
       "      <td>2024-02-15</td>\n",
       "      <td>2024-01-16</td>\n",
       "      <td>Emily Lee</td>\n",
       "      <td>Intake completed</td>\n",
       "    </tr>\n",
       "    <tr>\n",
       "      <th>2</th>\n",
       "      <td>Jane Smith</td>\n",
       "      <td>Housing Assistance</td>\n",
       "      <td>Support</td>\n",
       "      <td>2024-02-20</td>\n",
       "      <td>2024-02-21</td>\n",
       "      <td>Emily Lee</td>\n",
       "      <td>Referral to housing</td>\n",
       "    </tr>\n",
       "    <tr>\n",
       "      <th>3</th>\n",
       "      <td>Robert Brown</td>\n",
       "      <td>Health Counseling</td>\n",
       "      <td>Wellness</td>\n",
       "      <td>2024-04-10</td>\n",
       "      <td>2024-04-11</td>\n",
       "      <td>Michael Chen</td>\n",
       "      <td>Counseling session logged</td>\n",
       "    </tr>\n",
       "  </tbody>\n",
       "</table>\n",
       "</div>"
      ],
      "text/plain": [
       "     ClientName         ProgramName       Type EnrollmentDate    NoteDate  \\\n",
       "0      John Doe  Housing Assistance    Support     2024-01-15  2024-01-16   \n",
       "1      John Doe        Job Training  Education     2024-02-15  2024-01-16   \n",
       "2    Jane Smith  Housing Assistance    Support     2024-02-20  2024-02-21   \n",
       "3  Robert Brown   Health Counseling   Wellness     2024-04-10  2024-04-11   \n",
       "\n",
       "          Staff                       Note  \n",
       "0     Emily Lee           Intake completed  \n",
       "1     Emily Lee           Intake completed  \n",
       "2     Emily Lee        Referral to housing  \n",
       "3  Michael Chen  Counseling session logged  "
      ]
     },
     "execution_count": 28,
     "metadata": {},
     "output_type": "execute_result"
    }
   ],
   "source": [
    "query_2024 = '''\n",
    "SELECT *\n",
    "FROM ClientProgramView\n",
    "WHERE EnrollmentDate BETWEEN '2024-01-01' AND '2024-12-31'\n",
    "ORDER BY EnrollmentDate;\n",
    "'''\n",
    "pd.read_sql(query_2024, conn)\n"
   ]
  },
  {
   "cell_type": "markdown",
   "id": "a0f8cc9d-a103-4d14-866e-cf8167054485",
   "metadata": {},
   "source": [
    "## Programs with > 1 Note Per Client (JOIN + GROUP BY + HAVING)"
   ]
  },
  {
   "cell_type": "code",
   "execution_count": 31,
   "id": "a95489ca-2019-45ab-b1c0-85eaf189581c",
   "metadata": {},
   "outputs": [
    {
     "data": {
      "text/html": [
       "<div>\n",
       "<style scoped>\n",
       "    .dataframe tbody tr th:only-of-type {\n",
       "        vertical-align: middle;\n",
       "    }\n",
       "\n",
       "    .dataframe tbody tr th {\n",
       "        vertical-align: top;\n",
       "    }\n",
       "\n",
       "    .dataframe thead th {\n",
       "        text-align: right;\n",
       "    }\n",
       "</style>\n",
       "<table border=\"1\" class=\"dataframe\">\n",
       "  <thead>\n",
       "    <tr style=\"text-align: right;\">\n",
       "      <th></th>\n",
       "      <th>Name</th>\n",
       "      <th>NotesPerClient</th>\n",
       "    </tr>\n",
       "  </thead>\n",
       "  <tbody>\n",
       "  </tbody>\n",
       "</table>\n",
       "</div>"
      ],
      "text/plain": [
       "Empty DataFrame\n",
       "Columns: [Name, NotesPerClient]\n",
       "Index: []"
      ]
     },
     "execution_count": 31,
     "metadata": {},
     "output_type": "execute_result"
    }
   ],
   "source": [
    "query_notes = '''\n",
    "SELECT p.Name, COUNT(n.NoteID) * 1.0 / COUNT(DISTINCT c.ClientID) AS NotesPerClient\n",
    "FROM Programs p\n",
    "JOIN Enrollments e ON p.ProgramID = e.ProgramID\n",
    "JOIN Clients c ON c.ClientID = e.ClientID\n",
    "JOIN Case_Notes n ON n.ClientID = c.ClientID\n",
    "GROUP BY p.Name\n",
    "HAVING NotesPerClient > 1;\n",
    "'''\n",
    "pd.read_sql(query_notes, conn)\n"
   ]
  },
  {
   "cell_type": "markdown",
   "id": "08d28588-b944-43e7-b1ff-221afb312232",
   "metadata": {},
   "source": [
    "## Clients With Below-Average Program Count (SUBQUERY)"
   ]
  },
  {
   "cell_type": "code",
   "execution_count": 34,
   "id": "8cee14fb-5c8b-48dc-ab98-a232816ab4a5",
   "metadata": {},
   "outputs": [
    {
     "data": {
      "text/html": [
       "<div>\n",
       "<style scoped>\n",
       "    .dataframe tbody tr th:only-of-type {\n",
       "        vertical-align: middle;\n",
       "    }\n",
       "\n",
       "    .dataframe tbody tr th {\n",
       "        vertical-align: top;\n",
       "    }\n",
       "\n",
       "    .dataframe thead th {\n",
       "        text-align: right;\n",
       "    }\n",
       "</style>\n",
       "<table border=\"1\" class=\"dataframe\">\n",
       "  <thead>\n",
       "    <tr style=\"text-align: right;\">\n",
       "      <th></th>\n",
       "      <th>ClientID</th>\n",
       "      <th>ProgramCount</th>\n",
       "    </tr>\n",
       "  </thead>\n",
       "  <tbody>\n",
       "    <tr>\n",
       "      <th>0</th>\n",
       "      <td>2</td>\n",
       "      <td>1</td>\n",
       "    </tr>\n",
       "    <tr>\n",
       "      <th>1</th>\n",
       "      <td>3</td>\n",
       "      <td>1</td>\n",
       "    </tr>\n",
       "  </tbody>\n",
       "</table>\n",
       "</div>"
      ],
      "text/plain": [
       "   ClientID  ProgramCount\n",
       "0         2             1\n",
       "1         3             1"
      ]
     },
     "execution_count": 34,
     "metadata": {},
     "output_type": "execute_result"
    }
   ],
   "source": [
    "query_sub = '''\n",
    "SELECT ClientID, COUNT(*) AS ProgramCount\n",
    "FROM Enrollments\n",
    "GROUP BY ClientID\n",
    "HAVING ProgramCount < (\n",
    "  SELECT AVG(pc) FROM (\n",
    "    SELECT COUNT(*) AS pc FROM Enrollments GROUP BY ClientID\n",
    "  )\n",
    ");\n",
    "'''\n",
    "pd.read_sql(query_sub, conn)\n"
   ]
  },
  {
   "cell_type": "markdown",
   "id": "ba798b23-89f8-4a7c-9952-cc02f782c6e9",
   "metadata": {},
   "source": [
    "## Export Notes by Staff to Excel (Dynamic Filter)"
   ]
  },
  {
   "cell_type": "code",
   "execution_count": 37,
   "id": "78043853-1ed0-4e44-b968-f2fc2e40ef5f",
   "metadata": {},
   "outputs": [
    {
     "name": "stdout",
     "output_type": "stream",
     "text": [
      "Exported notes to Excel.\n"
     ]
    }
   ],
   "source": [
    "staff_name = 'Emily Lee'\n",
    "\n",
    "df_notes = pd.read_sql(f'''\n",
    "SELECT * FROM Case_Notes\n",
    "WHERE Staff = \"{staff_name}\"\n",
    "''', conn)\n",
    "\n",
    "output_path = r'C:\\Users\\ysaya\\Desktop\\Projects\\ASU\\IFT 200\\Notes_By_Emily.xlsx'\n",
    "df_notes.to_excel(output_path, index=False)\n",
    "\n",
    "print(\"Exported notes to Excel.\")\n"
   ]
  },
  {
   "cell_type": "code",
   "execution_count": null,
   "id": "79573fc6-05a3-466b-bade-3ffc4dcd8d9c",
   "metadata": {},
   "outputs": [],
   "source": []
  }
 ],
 "metadata": {
  "kernelspec": {
   "display_name": "Python 3 (ipykernel)",
   "language": "python",
   "name": "python3"
  },
  "language_info": {
   "codemirror_mode": {
    "name": "ipython",
    "version": 3
   },
   "file_extension": ".py",
   "mimetype": "text/x-python",
   "name": "python",
   "nbconvert_exporter": "python",
   "pygments_lexer": "ipython3",
   "version": "3.12.4"
  }
 },
 "nbformat": 4,
 "nbformat_minor": 5
}
